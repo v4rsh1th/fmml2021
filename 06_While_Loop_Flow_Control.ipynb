{
  "nbformat": 4,
  "nbformat_minor": 0,
  "metadata": {
    "colab": {
      "name": "06_While_Loop-Flow_Control.ipynb",
      "provenance": [],
      "include_colab_link": true
    },
    "kernelspec": {
      "name": "python3",
      "display_name": "Python 3"
    },
    "language_info": {
      "name": "python"
    }
  },
  "cells": [
    {
      "cell_type": "markdown",
      "metadata": {
        "id": "view-in-github",
        "colab_type": "text"
      },
      "source": [
        "<a href=\"https://colab.research.google.com/github/v4rsh1th/fmml2021/blob/main/06_While_Loop_Flow_Control.ipynb\" target=\"_parent\"><img src=\"https://colab.research.google.com/assets/colab-badge.svg\" alt=\"Open In Colab\"/></a>"
      ]
    },
    {
      "cell_type": "markdown",
      "metadata": {
        "id": "1_JLSdRkqi_5"
      },
      "source": [
        "#### WHILE-LOOP: The while loop executes as long as the condition remains true."
      ]
    },
    {
      "cell_type": "code",
      "metadata": {
        "id": "BWYbJYa5rlk5"
      },
      "source": [
        "#        while condition:\n",
        "#           statement-block"
      ],
      "execution_count": null,
      "outputs": []
    },
    {
      "cell_type": "code",
      "metadata": {
        "id": "LP4gqudewbsi"
      },
      "source": [
        "i = 0"
      ],
      "execution_count": 1,
      "outputs": []
    },
    {
      "cell_type": "code",
      "metadata": {
        "id": "BPjFgz1-wgvK",
        "outputId": "e22dfbb5-2eb4-4a83-8c76-1b24d66b3073",
        "colab": {
          "base_uri": "https://localhost:8080/"
        }
      },
      "source": [
        "while (i < 10):\n",
        "   print (i, end=\" \")\n",
        "   i = i + 1"
      ],
      "execution_count": 2,
      "outputs": [
        {
          "output_type": "stream",
          "name": "stdout",
          "text": [
            "0 1 2 3 4 5 6 7 8 9 "
          ]
        }
      ]
    },
    {
      "cell_type": "code",
      "metadata": {
        "id": "3dnyj0WHwzaZ"
      },
      "source": [
        "# 1 1 2 3 5 8 13 "
      ],
      "execution_count": null,
      "outputs": []
    },
    {
      "cell_type": "code",
      "metadata": {
        "id": "8ADO1xTtxAdK",
        "outputId": "4a575eeb-0ee8-4b1a-d9ca-58be4ccd2e4b",
        "colab": {
          "base_uri": "https://localhost:8080/"
        }
      },
      "source": [
        "# Fibonacci sequence\n",
        "\n",
        "a = b = 1\n",
        "while (b < 10000):\n",
        "  print(a, b, end=' ')\n",
        "  a += b\n",
        "  b += a"
      ],
      "execution_count": 17,
      "outputs": [
        {
          "output_type": "stream",
          "name": "stdout",
          "text": [
            "1 1 2 3 5 8 13 21 34 55 89 144 233 377 610 987 1597 2584 4181 6765 "
          ]
        }
      ]
    },
    {
      "cell_type": "code",
      "metadata": {
        "id": "GpU2tRwW4yLM"
      },
      "source": [
        "my_str = '***********'"
      ],
      "execution_count": 3,
      "outputs": []
    },
    {
      "cell_type": "code",
      "metadata": {
        "id": "ogXM0QWM44jO",
        "outputId": "887cc02f-783a-4ec4-e459-8e90fc94f44f",
        "colab": {
          "base_uri": "https://localhost:8080/"
        }
      },
      "source": [
        "str_len = len(my_str)\n",
        "print(str_len)"
      ],
      "execution_count": 4,
      "outputs": [
        {
          "output_type": "stream",
          "name": "stdout",
          "text": [
            "11\n"
          ]
        }
      ]
    },
    {
      "cell_type": "code",
      "metadata": {
        "id": "rjpLoZPy5GF3",
        "outputId": "c7ce716c-cb03-4120-db2e-7d5016ccfb2b",
        "colab": {
          "base_uri": "https://localhost:8080/"
        }
      },
      "source": [
        "while (str_len > 0):\n",
        "   print (my_str[:str_len])\n",
        "   str_len = str_len - 1"
      ],
      "execution_count": 5,
      "outputs": [
        {
          "output_type": "stream",
          "name": "stdout",
          "text": [
            "***********\n",
            "**********\n",
            "*********\n",
            "********\n",
            "*******\n",
            "******\n",
            "*****\n",
            "****\n",
            "***\n",
            "**\n",
            "*\n"
          ]
        }
      ]
    },
    {
      "cell_type": "code",
      "metadata": {
        "id": "prvBHO7u7p-R",
        "outputId": "f77cc84c-86c0-40db-b284-ea8551461fe2",
        "colab": {
          "base_uri": "https://localhost:8080/"
        }
      },
      "source": [
        "# Exercise to print the pattern in increasing order\n",
        "\n",
        "initial = 0\n",
        "input_string = '***********'\n",
        "string_length = len(input_string)\n",
        "while (initial < string_length):\n",
        "  print(input_string[:initial])\n",
        "  initial += 1"
      ],
      "execution_count": 28,
      "outputs": [
        {
          "output_type": "stream",
          "name": "stdout",
          "text": [
            "\n",
            "*\n",
            "**\n",
            "***\n",
            "****\n",
            "*****\n",
            "******\n",
            "*******\n",
            "********\n",
            "*********\n",
            "**********\n"
          ]
        }
      ]
    }
  ]
}