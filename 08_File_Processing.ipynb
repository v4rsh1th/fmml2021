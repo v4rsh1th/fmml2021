{
  "nbformat": 4,
  "nbformat_minor": 0,
  "metadata": {
    "colab": {
      "name": "08 File Processing.ipynb",
      "provenance": [],
      "include_colab_link": true
    },
    "kernelspec": {
      "name": "python3",
      "display_name": "Python 3"
    },
    "language_info": {
      "name": "python"
    }
  },
  "cells": [
    {
      "cell_type": "markdown",
      "metadata": {
        "id": "view-in-github",
        "colab_type": "text"
      },
      "source": [
        "<a href=\"https://colab.research.google.com/github/v4rsh1th/fmml2021/blob/main/08_File_Processing.ipynb\" target=\"_parent\"><img src=\"https://colab.research.google.com/assets/colab-badge.svg\" alt=\"Open In Colab\"/></a>"
      ]
    },
    {
      "cell_type": "code",
      "metadata": {
        "id": "on0OBs9S-eiS"
      },
      "source": [
        "!wget https://raw.githubusercontent.com/aosp-mirror/platform_external_protobuf/master/CONTRIBUTORS.txt"
      ],
      "execution_count": null,
      "outputs": []
    },
    {
      "cell_type": "code",
      "metadata": {
        "id": "Rg5LcpidAP7I"
      },
      "source": [
        "infile_pointer = open(\"CONTRIBUTORS.txt\", \"r\")\n",
        "outfile_pointer = open(\"emails-id.txt\", \"w\")"
      ],
      "execution_count": 2,
      "outputs": []
    },
    {
      "cell_type": "code",
      "metadata": {
        "id": "4yocH5ViAb-g",
        "outputId": "feaed279-d219-4c6a-8e46-af4c57747c8d",
        "colab": {
          "base_uri": "https://localhost:8080/"
        }
      },
      "source": [
        "for each_line in infile_pointer:\n",
        "  if (each_line.count('@') > 0) and (each_line.count('<') > 0):\n",
        "      print (each_line)\n",
        "      outfile_pointer.write(each_line)\n",
        "infile_pointer.close()\n",
        "outfile_pointer.close()"
      ],
      "execution_count": 3,
      "outputs": [
        {
          "output_type": "stream",
          "name": "stdout",
          "text": [
            "  Sanjay Ghemawat <sanjay@google.com>\n",
            "\n",
            "  Jeff Dean <jeff@google.com>\n",
            "\n",
            "  Daniel Dulitz <daniel@google.com>\n",
            "\n",
            "  Paul Haahr <haahr@google.com>\n",
            "\n",
            "  Corey Anderson <corin@google.com>\n",
            "\n",
            "  Kenton Varda <kenton@google.com>\n",
            "\n",
            "  Will Robinson <robinson@google.com>\n",
            "\n",
            "  Petar Petrov <petar@google.com>\n",
            "\n",
            "  Brian Duff <bduff@google.com>\n",
            "\n",
            "  Tom Chao <chaot@google.com>\n",
            "\n",
            "  Max Cai <maxtroy@google.com>\n",
            "\n",
            "  Ulas Kirazci <ulas@google.com>\n",
            "\n",
            "  Jason Hsueh <jasonh@google.com>\n",
            "\n",
            "  Joseph Schorr <jschorr@google.com>\n",
            "\n",
            "  Wenbo Zhu <wenboz@google.com>\n",
            "\n",
            "  Scott Bruce <sbruce@google.com>\n",
            "\n",
            "  Neal Norwitz <nnorwitz@google.com>\n",
            "\n",
            "  Jeffrey Yasskin <jyasskin@google.com>\n",
            "\n",
            "  Ambrose Feinstein <ambrose@google.com>\n",
            "\n",
            "  Lisa Carey <lcarey@google.com>\n",
            "\n",
            "  Gregory Kick <gak@google.com>\n",
            "\n",
            "  Kevin Ko <kevin.s.ko@gmail.com>\n",
            "\n",
            "  Johan Euphrosine <proppy@aminche.com>\n",
            "\n",
            "  Ulrich Kunitz <kune@deine-taler.de>\n",
            "\n",
            "  Leandro Lucarella <llucax@gmail.com>\n",
            "\n",
            "  Dilip Joseph <dilip.antony.joseph@gmail.com>\n",
            "\n",
            "  Brian Atkinson <nairb774@gmail.com>\n",
            "\n",
            "  Vincent Choinière <Choiniere.Vincent@hydro.qc.ca>\n",
            "\n",
            "  Monty Taylor <monty.taylor@gmail.com>\n",
            "\n",
            "  Alek Storm <alek.storm@gmail.com>\n",
            "\n",
            "  Oleg Smolsky <oleg.smolsky@gmail.com>\n",
            "\n",
            "  Brian Olson <brianolson@google.com>\n",
            "\n",
            "  Michael Poole <mdpoole@troilus.org>\n",
            "\n",
            "  Wink Saville <wink@google.com>\n",
            "\n",
            "  Will Pierce <willp@nuclei.com>\n",
            "\n",
            "  Alexandre Vassalotti <alexandre@peadrop.com>\n",
            "\n",
            "  Scott Stafford <scott.stafford@gmail.com>\n",
            "\n",
            "  Alexander Melnikov <alm@sibmail.ru>\n",
            "\n",
            "  Oliver Jowett <oliver.jowett@gmail.com>\n",
            "\n",
            "  Evan Jones <evanj@mit.edu>\n",
            "\n",
            "  Michael Kucharski <m.kucharski@gmail.com>\n",
            "\n",
            "  Kacper Kowalik <xarthisius.kk@gmail.com>\n",
            "\n",
            "  William Orr <will@worrbase.com>\n",
            "\n",
            "  Andrew Paprocki <andrew@ishiboo.com>\n",
            "\n"
          ]
        }
      ]
    },
    {
      "cell_type": "code",
      "metadata": {
        "id": "jcMUd4hNCQiU"
      },
      "source": [
        "# https://github.com/mysql/mysql-server/blob/8.0/Docs/sp-imp-spec.txt\n",
        "# Write a program to save all lines that start with '-' in a separate file\n",
        "# Ignore all leading blank characters."
      ],
      "execution_count": null,
      "outputs": []
    },
    {
      "cell_type": "code",
      "metadata": {
        "id": "Ah2yMybhFuqx"
      },
      "source": [
        "!wget https://raw.githubusercontent.com/mysql/mysql-server/8.0/Docs/sp-imp-spec.txt"
      ],
      "execution_count": null,
      "outputs": []
    },
    {
      "cell_type": "code",
      "metadata": {
        "id": "Q0pTv27KGLuc",
        "outputId": "cd98198e-4867-4427-ccd2-01f47fcc9853",
        "colab": {
          "base_uri": "https://localhost:8080/"
        }
      },
      "source": [
        "file_input = open('sp-imp-spec.txt', 'r')\n",
        "file_output = open('hyphen-sentences', 'w')\n",
        "\n",
        "for each_line in file_input:\n",
        "  trimmed = each_line.strip()\n",
        "  if (trimmed.startswith('-')):\n",
        "    print(trimmed)\n",
        "    file_output.write(trimmed + '\\n')\n",
        "file_input.close()\n",
        "file_output.close()"
      ],
      "execution_count": 24,
      "outputs": [
        {
          "output_type": "stream",
          "name": "stdout",
          "text": [
            "- How parsing and execution of queries work\n",
            "- Lex (mentioned above) is the \"compiled\" query, that is the output from\n",
            "- THD is the \"run-time\" state of a connection, containing all that is\n",
            "- Item_*:  During parsing, all data is translated into \"items\", objects of\n",
            "- How to fit Stored Procedure into this scheme\n",
            "- An overview of the classes and files for stored procedures\n",
            "- class sp_head (sp_head.{cc,h})\n",
            "- class sp_pcontext (sp_pcontext.{cc,h}\n",
            "- class sp_instr (sp_head.{cc,h})\n",
            "- sp_instr_stmt\n",
            "- sp_instr_set\n",
            "- sp_instr_jump\n",
            "- sp_instr_jump_if_not\n",
            "- sp_instr_freturn\n",
            "- class sp_rcontext (sp_rcontext.h)\n",
            "- class Item_splocal (Item.{cc,h})\n",
            "- Utility functions (sp.{cc,h})\n",
            "- Parsing CREATE PROCEDURE ...\n",
            "- Parameters:\n",
            "- Declared local variables:\n",
            "- Local Variable references:\n",
            "- Statements:\n",
            "- SET var:\n",
            "- Flow control:\n",
            "- Forward jumps: When jumping forward, the exact destination is not\n",
            "- Loop constructs have optional labels. If a loop doesn't have a\n",
            "- There are two types of CASE. The \"simple\" case is implemented\n",
            "- A simple example\n",
            "- Parsing CREATE FUNCTION ...\n",
            "- Storing, caching, dropping...\n",
            "- CALLing a procedure\n",
            "- USE database\n",
            "- It's possible to write \"general\" procedures that are independent of\n",
            "- It's possible to write procedures that work on a particular database\n",
            "- Evaluating Items\n",
            "- When SETing a variable\n",
            "- When CALLing a procedure\n",
            "- When testing an expression for a branch (in IF, WHILE, etc)\n",
            "- Calling a FUNCTION\n",
            "- Detecting and parsing a FUNCTION invocation\n",
            "- Collecting FUNCTIONs to invoke\n",
            "- We can't read and parse the FUNCTION from the mysql.proc table at the\n",
            "- Parsing DROP PROCEDURE/FUNCTION\n",
            "- Condition and Handlers\n",
            "- sp_instr_hpush_jump\n",
            "- sp_instr_hpop\n",
            "- Examples:\n",
            "- EXIT handler\n",
            "- CONTINUE handler\n",
            "- Cursors\n",
            "- sp_instr_cpush\n",
            "- sp_instr_cpop\n",
            "- sp_instr_copen\n",
            "- sp_instr_cfetch\n",
            "- sp_instr_cclose\n",
            "- Example:\n",
            "- The SP cache\n",
            "- Class and function APIs\n",
            "- The parser context: sp_pcontext.h\n",
            "- The run-time context (call frame): sp_rcontext.h\n",
            "- The procedure: sp_head.h\n",
            "- Instructions\n",
            "- The base class:\n",
            "- Statement instruction:\n",
            "-  SET instruction:\n",
            "- Unconditional jump\n",
            "- Conditional jump\n",
            "- Return a function value\n",
            "- Push a handler and jump\n",
            "- Pops handlers\n",
            "- Return from a CONTINUE handler\n",
            "- Push a CURSOR\n",
            "- Pop CURSORs\n",
            "- Open a CURSOR\n",
            "- Close a CURSOR\n",
            "- Fetch a row with CURSOR\n",
            "- Utility functions: sp.h\n",
            "- The cache: sp_cache.h\n",
            "- The mysql.proc schema:\n",
            "--\n"
          ]
        }
      ]
    },
    {
      "cell_type": "markdown",
      "metadata": {
        "id": "CzILoddNaWPQ"
      },
      "source": [
        "Reference: [Official Python Documentation](https://docs.python.org/3/tutorial/inputoutput.html)\n",
        "\n",
        "String methods: [Link](https://www.w3schools.com/python/python_ref_string.asp)"
      ]
    }
  ]
}